{
 "cells": [
  {
   "cell_type": "markdown",
   "metadata": {},
   "source": [
    "# Section 0: pyRosetta Setup\n",
    "在我们运行**任何** pyrosetta 代码之前，我们需要设置pyrosetta环境。这可以通过运行以下代码来完成。\n",
    "```python\n",
    "from pyrosetta import init\n",
    "init()\n",
    "```\n",
    "这个时候会出现\n",
    "```\n",
    "┌──────────────────────────────────────────────────────────────────────────────┐\n",
    "│                                 PyRosetta-4                                  │\n",
    "│              Created in JHU by Sergey Lyskov and PyRosetta Team              │\n",
    "│              (C) Copyright Rosetta Commons Member Institutions               │\n",
    "│                                                                              │\n",
    "│ NOTE: USE OF PyRosetta FOR COMMERCIAL PURPOSES REQUIRE PURCHASE OF A LICENSE │\n",
    "│         See LICENSE.PyRosetta.md or email license@uw.edu for details         │\n",
    "└──────────────────────────────────────────────────────────────────────────────┘\n",
    "```\n",
    "为开头的一段文字，这说明你已经成功安装了pyrosetta并且可以开始使用了。\n",
    "\n",
    "---\n",
    "\n",
    "可以通过指定 `'silent=True'` 来关闭这段文字的输出。\n",
    "\n",
    "```python\n",
    "from pyrosetta import init\n",
    "init(silent=True)\n",
    "```\n",
    "---\n",
    "\n",
    "如果你不想看到pyrosetta的任何输出，可以在init()函数中加入 `'-mute all'` 参数，这样pyrosetta就不会输出任何信息了。当然这只推荐在你完全了解你的代码会做什么的情况下使用。\n",
    "\n",
    "```python\n",
    "from pyrosetta import init\n",
    "init('-mute all')\n",
    "```\n",
    "\n",
    "除此之外，你还可以通过 `init()` 函数的参数来设置其他的选项，比如 `'-extra_res_fa path/to/your/params'` 来加载 `.params` 文件(一般用于定义小分子和非标准氨基酸)。更多的选项可以参考[RosettaCommons所提供的文档](https://docs.rosettacommons.org/docs/latest/full-options-list)。\n"
   ]
  },
  {
   "cell_type": "code",
   "execution_count": 27,
   "metadata": {},
   "outputs": [
    {
     "name": "stdout",
     "output_type": "stream",
     "text": [
      "┌──────────────────────────────────────────────────────────────────────────────┐\n",
      "│                                 PyRosetta-4                                  │\n",
      "│              Created in JHU by Sergey Lyskov and PyRosetta Team              │\n",
      "│              (C) Copyright Rosetta Commons Member Institutions               │\n",
      "│                                                                              │\n",
      "│ NOTE: USE OF PyRosetta FOR COMMERCIAL PURPOSES REQUIRE PURCHASE OF A LICENSE │\n",
      "│         See LICENSE.PyRosetta.md or email license@uw.edu for details         │\n",
      "└──────────────────────────────────────────────────────────────────────────────┘\n",
      "PyRosetta-4 2024 [Rosetta PyRosetta4.conda.ubuntu.cxx11thread.serialization.Ubuntu.python312.Release 2024.42+release.3366cf78a3df04339d1982e94531b77b098ddb99 2024-10-11T08:24:04] retrieved from: http://www.pyrosetta.org\n",
      "core.init: Checking for fconfig files in pwd and ./rosetta/flags\n",
      "core.init: Rosetta version: PyRosetta4.conda.ubuntu.cxx11thread.serialization.Ubuntu.python312.Release r388 2024.42+release.3366cf78a3 3366cf78a3df04339d1982e94531b77b098ddb99 http://www.pyrosetta.org 2024-10-11T08:24:04\n",
      "core.init: Rosetta extras: [cxx11thread, serialization]\n",
      "core.init: command: PyRosetta -ex1 -ex2aro -database /home/ubuntu/miniconda3/envs/test/lib/python3.12/site-packages/pyrosetta/database\n",
      "basic.random.init_random_generator: 'RNG device' seed mode, using '/dev/urandom', seed=1421220946 seed_offset=0 real_seed=1421220946 thread_index=0\n",
      "basic.random.init_random_generator: RandomGenerator:init: Normal mode, seed=1421220946 RG_type=mt19937\n"
     ]
    }
   ],
   "source": [
    "from pyrosetta import init\n",
    "init()"
   ]
  },
  {
   "cell_type": "markdown",
   "metadata": {},
   "source": [
    "# Section 1: Pose\n",
    "在Rosetta中，Pose是管理蛋白质信息的中心，可以描述蛋白质一到四级结构所有的信息。而且这些信息是分层管理的比如:\n",
    "\n",
    "- Conformation: 负责管理原子类型(AtomType)、氨基酸类型(ResidueType)、氨基酸的原子坐标(xyz)、氨基酸连接方式的定义(FoldTree/AtomTree)等，这部分构成了蛋白质构象的所有物理信息。(最重要)\n",
    "- Energy: 负责管理氨基酸直接的能量计算所需的信息(EnergyGraph/energies)\n",
    "- ConstraintSet: 负责管理原子间的约束信息(constraints)\n",
    "- DataCache: 负责管理用户自定义的信息"
   ]
  },
  {
   "cell_type": "markdown",
   "metadata": {},
   "source": [
    "## 1.1 Pose 的读取与写出\n",
    "Rosetta兼容最常规的两种记录结构格式：PDB和Silent文件：\n",
    "\n",
    "- PDB文件可以从https://www.rcsb.org/ 数据库中获取；\n",
    "- Silent文件为Rosetta开发的pose压缩文件（其功能也是储存结构等信息，但其体积比PDB小了10倍之多，非常适合在超算中心进行的数据文件的传输）\n",
    "\n",
    "获取 pose 的函数主要有以下几种：\n",
    "\n",
    "- `pose_from_pdb(pdb_file_path)`：从PDB文件中读取pose\n",
    "- `pose_from_sequence(sequence)`：从氨基酸序列中构建pose\n",
    "- `pose_from_rcsb(pdb_id)`：从RCSB数据库中远程获取pdb code对应的pose\n",
    "\n",
    "在这里，我们主要介绍来源于PDB文件的Pose读取方法。"
   ]
  },
  {
   "cell_type": "code",
   "execution_count": 28,
   "metadata": {},
   "outputs": [],
   "source": [
    "from pyrosetta import (\n",
    "    pose_from_pdb,\n",
    ")\n",
    "from pyrosetta.toolbox import pose_from_rcsb"
   ]
  },
  {
   "cell_type": "code",
   "execution_count": 29,
   "metadata": {},
   "outputs": [
    {
     "name": "stdout",
     "output_type": "stream",
     "text": [
      "core.import_pose.import_pose: File '1QYS.clean.pdb' automatically determined to be of type PDB\n",
      "core.conformation.Conformation: [ WARNING ] missing heavyatom:  CG  on residue LYS 13\n",
      "core.conformation.Conformation: [ WARNING ] missing heavyatom:  CD  on residue LYS 13\n",
      "core.conformation.Conformation: [ WARNING ] missing heavyatom:  CE  on residue LYS 13\n",
      "core.conformation.Conformation: [ WARNING ] missing heavyatom:  NZ  on residue LYS 13\n",
      "core.conformation.Conformation: [ WARNING ] missing heavyatom:  CG  on residue PHE 15\n",
      "core.conformation.Conformation: [ WARNING ] missing heavyatom:  CD1 on residue PHE 15\n",
      "core.conformation.Conformation: [ WARNING ] missing heavyatom:  CD2 on residue PHE 15\n",
      "core.conformation.Conformation: [ WARNING ] missing heavyatom:  CE1 on residue PHE 15\n",
      "core.conformation.Conformation: [ WARNING ] missing heavyatom:  CE2 on residue PHE 15\n",
      "core.conformation.Conformation: [ WARNING ] missing heavyatom:  CZ  on residue PHE 15\n",
      "core.conformation.Conformation: [ WARNING ] missing heavyatom:  OG  on residue SER 25\n",
      "core.conformation.Conformation: [ WARNING ] missing heavyatom:  CG  on residue GLN 28\n",
      "core.conformation.Conformation: [ WARNING ] missing heavyatom:  CD  on residue GLN 28\n",
      "core.conformation.Conformation: [ WARNING ] missing heavyatom:  OE1 on residue GLN 28\n",
      "core.conformation.Conformation: [ WARNING ] missing heavyatom:  NE2 on residue GLN 28\n",
      "core.conformation.Conformation: [ WARNING ] missing heavyatom:  CG  on residue LYS 29\n",
      "core.conformation.Conformation: [ WARNING ] missing heavyatom:  CD  on residue LYS 29\n",
      "core.conformation.Conformation: [ WARNING ] missing heavyatom:  CE  on residue LYS 29\n",
      "core.conformation.Conformation: [ WARNING ] missing heavyatom:  NZ  on residue LYS 29\n",
      "core.conformation.Conformation: [ WARNING ] missing heavyatom:  CG  on residue ASN 32\n",
      "core.conformation.Conformation: [ WARNING ] missing heavyatom:  OD1 on residue ASN 32\n",
      "core.conformation.Conformation: [ WARNING ] missing heavyatom:  ND2 on residue ASN 32\n",
      "core.conformation.Conformation: [ WARNING ] missing heavyatom:  CG  on residue LEU 34\n",
      "core.conformation.Conformation: [ WARNING ] missing heavyatom:  CD1 on residue LEU 34\n",
      "core.conformation.Conformation: [ WARNING ] missing heavyatom:  CD2 on residue LEU 34\n",
      "core.conformation.Conformation: [ WARNING ] missing heavyatom:  CG  on residue LYS 43\n",
      "core.conformation.Conformation: [ WARNING ] missing heavyatom:  CD  on residue LYS 43\n",
      "core.conformation.Conformation: [ WARNING ] missing heavyatom:  CE  on residue LYS 43\n",
      "core.conformation.Conformation: [ WARNING ] missing heavyatom:  NZ  on residue LYS 43\n",
      "core.conformation.Conformation: [ WARNING ] missing heavyatom:  CG  on residue ARG 44\n",
      "core.conformation.Conformation: [ WARNING ] missing heavyatom:  CD  on residue ARG 44\n",
      "core.conformation.Conformation: [ WARNING ] missing heavyatom:  NE  on residue ARG 44\n",
      "core.conformation.Conformation: [ WARNING ] missing heavyatom:  CZ  on residue ARG 44\n",
      "core.conformation.Conformation: [ WARNING ] missing heavyatom:  NH1 on residue ARG 44\n",
      "core.conformation.Conformation: [ WARNING ] missing heavyatom:  NH2 on residue ARG 44\n",
      "core.conformation.Conformation: [ WARNING ] missing heavyatom:  CG  on residue ARG 52\n",
      "core.conformation.Conformation: [ WARNING ] missing heavyatom:  CD  on residue ARG 52\n",
      "core.conformation.Conformation: [ WARNING ] missing heavyatom:  NE  on residue ARG 52\n",
      "core.conformation.Conformation: [ WARNING ] missing heavyatom:  CZ  on residue ARG 52\n",
      "core.conformation.Conformation: [ WARNING ] missing heavyatom:  NH1 on residue ARG 52\n",
      "core.conformation.Conformation: [ WARNING ] missing heavyatom:  NH2 on residue ARG 52\n",
      "core.conformation.Conformation: [ WARNING ] missing heavyatom:  CG  on residue LYS 59\n",
      "core.conformation.Conformation: [ WARNING ] missing heavyatom:  CD  on residue LYS 59\n",
      "core.conformation.Conformation: [ WARNING ] missing heavyatom:  CE  on residue LYS 59\n",
      "core.conformation.Conformation: [ WARNING ] missing heavyatom:  NZ  on residue LYS 59\n",
      "core.conformation.Conformation: [ WARNING ] missing heavyatom:  CG  on residue GLU 70\n",
      "core.conformation.Conformation: [ WARNING ] missing heavyatom:  CD  on residue GLU 70\n",
      "core.conformation.Conformation: [ WARNING ] missing heavyatom:  OE1 on residue GLU 70\n",
      "core.conformation.Conformation: [ WARNING ] missing heavyatom:  OE2 on residue GLU 70\n",
      "core.conformation.Conformation: [ WARNING ] missing heavyatom:  OXT on residue LEU:CtermProteinFull 91\n",
      "core.pack.pack_missing_sidechains: packing residue number 13 because of missing atom number 6 atom name  CG\n",
      "core.pack.pack_missing_sidechains: packing residue number 15 because of missing atom number 6 atom name  CG\n",
      "core.pack.pack_missing_sidechains: packing residue number 25 because of missing atom number 6 atom name  OG\n",
      "core.pack.pack_missing_sidechains: packing residue number 28 because of missing atom number 6 atom name  CG\n",
      "core.pack.pack_missing_sidechains: packing residue number 29 because of missing atom number 6 atom name  CG\n",
      "core.pack.pack_missing_sidechains: packing residue number 32 because of missing atom number 6 atom name  CG\n",
      "core.pack.pack_missing_sidechains: packing residue number 34 because of missing atom number 6 atom name  CG\n",
      "core.pack.pack_missing_sidechains: packing residue number 43 because of missing atom number 6 atom name  CG\n",
      "core.pack.pack_missing_sidechains: packing residue number 44 because of missing atom number 6 atom name  CG\n",
      "core.pack.pack_missing_sidechains: packing residue number 52 because of missing atom number 6 atom name  CG\n",
      "core.pack.pack_missing_sidechains: packing residue number 59 because of missing atom number 6 atom name  CG\n",
      "core.pack.pack_missing_sidechains: packing residue number 70 because of missing atom number 6 atom name  CG\n",
      "core.pack.task: Packer task: initialize from command line()\n",
      "core.scoring.ScoreFunctionFactory: SCOREFUNCTION: ref2015\n",
      "core.pack.pack_rotamers: built 186 rotamers at 12 positions.\n",
      "core.pack.pack_rotamers: Requesting all available threads for interaction graph computation.\n",
      "core.pack.interaction_graph.interaction_graph_factory: Instantiating DensePDInteractionGraph\n",
      "core.pack.rotamer_set.RotamerSets: Completed interaction graph pre-calculation in 1 available threads (1 had been requested).\n"
     ]
    }
   ],
   "source": [
    "# pose_from_rcsb\n",
    "#   - 接收的参数为 RCSB 数据库中的 PDB ID (4位)\n",
    "#   - 返回一个 Pose 对象\n",
    "# 注意： 该函数会在当前目录下下载 RCSB 数据库中的 PDB 文件，因此需要保证网络畅通\n",
    "#       在运行下述代码后，当前目录下会出现名为 1QYS.pdb 与 1QYS.clean.pdb 的文件\n",
    "#       其中 1QYS.clean.pdb 是经过 PyRosetta 清洗过的 PDB 文件\n",
    "#           - clean 发生了什么？ “Extract all ATOM and TER records in a PDB file and write them to a new file”\n",
    "#                               （也就是说小分子、水分子等非蛋白质信息会被去除）（此外，缺失的原子会被rosetta补全）\n",
    "pose = pose_from_rcsb(\"1QYS\")"
   ]
  },
  {
   "cell_type": "code",
   "execution_count": 30,
   "metadata": {},
   "outputs": [
    {
     "name": "stdout",
     "output_type": "stream",
     "text": [
      "core.import_pose.import_pose: File './1QYS.clean.pdb' automatically determined to be of type PDB\n",
      "core.conformation.Conformation: [ WARNING ] missing heavyatom:  CG  on residue LYS 13\n",
      "core.conformation.Conformation: [ WARNING ] missing heavyatom:  CD  on residue LYS 13\n",
      "core.conformation.Conformation: [ WARNING ] missing heavyatom:  CE  on residue LYS 13\n",
      "core.conformation.Conformation: [ WARNING ] missing heavyatom:  NZ  on residue LYS 13\n",
      "core.conformation.Conformation: [ WARNING ] missing heavyatom:  CG  on residue PHE 15\n",
      "core.conformation.Conformation: [ WARNING ] missing heavyatom:  CD1 on residue PHE 15\n",
      "core.conformation.Conformation: [ WARNING ] missing heavyatom:  CD2 on residue PHE 15\n",
      "core.conformation.Conformation: [ WARNING ] missing heavyatom:  CE1 on residue PHE 15\n",
      "core.conformation.Conformation: [ WARNING ] missing heavyatom:  CE2 on residue PHE 15\n",
      "core.conformation.Conformation: [ WARNING ] missing heavyatom:  CZ  on residue PHE 15\n",
      "core.conformation.Conformation: [ WARNING ] missing heavyatom:  OG  on residue SER 25\n",
      "core.conformation.Conformation: [ WARNING ] missing heavyatom:  CG  on residue GLN 28\n",
      "core.conformation.Conformation: [ WARNING ] missing heavyatom:  CD  on residue GLN 28\n",
      "core.conformation.Conformation: [ WARNING ] missing heavyatom:  OE1 on residue GLN 28\n",
      "core.conformation.Conformation: [ WARNING ] missing heavyatom:  NE2 on residue GLN 28\n",
      "core.conformation.Conformation: [ WARNING ] missing heavyatom:  CG  on residue LYS 29\n",
      "core.conformation.Conformation: [ WARNING ] missing heavyatom:  CD  on residue LYS 29\n",
      "core.conformation.Conformation: [ WARNING ] missing heavyatom:  CE  on residue LYS 29\n",
      "core.conformation.Conformation: [ WARNING ] missing heavyatom:  NZ  on residue LYS 29\n",
      "core.conformation.Conformation: [ WARNING ] missing heavyatom:  CG  on residue ASN 32\n",
      "core.conformation.Conformation: [ WARNING ] missing heavyatom:  OD1 on residue ASN 32\n",
      "core.conformation.Conformation: [ WARNING ] missing heavyatom:  ND2 on residue ASN 32\n",
      "core.conformation.Conformation: [ WARNING ] missing heavyatom:  CG  on residue LEU 34\n",
      "core.conformation.Conformation: [ WARNING ] missing heavyatom:  CD1 on residue LEU 34\n",
      "core.conformation.Conformation: [ WARNING ] missing heavyatom:  CD2 on residue LEU 34\n",
      "core.conformation.Conformation: [ WARNING ] missing heavyatom:  CG  on residue LYS 43\n",
      "core.conformation.Conformation: [ WARNING ] missing heavyatom:  CD  on residue LYS 43\n",
      "core.conformation.Conformation: [ WARNING ] missing heavyatom:  CE  on residue LYS 43\n",
      "core.conformation.Conformation: [ WARNING ] missing heavyatom:  NZ  on residue LYS 43\n",
      "core.conformation.Conformation: [ WARNING ] missing heavyatom:  CG  on residue ARG 44\n",
      "core.conformation.Conformation: [ WARNING ] missing heavyatom:  CD  on residue ARG 44\n",
      "core.conformation.Conformation: [ WARNING ] missing heavyatom:  NE  on residue ARG 44\n",
      "core.conformation.Conformation: [ WARNING ] missing heavyatom:  CZ  on residue ARG 44\n",
      "core.conformation.Conformation: [ WARNING ] missing heavyatom:  NH1 on residue ARG 44\n",
      "core.conformation.Conformation: [ WARNING ] missing heavyatom:  NH2 on residue ARG 44\n",
      "core.conformation.Conformation: [ WARNING ] missing heavyatom:  CG  on residue ARG 52\n",
      "core.conformation.Conformation: [ WARNING ] missing heavyatom:  CD  on residue ARG 52\n",
      "core.conformation.Conformation: [ WARNING ] missing heavyatom:  NE  on residue ARG 52\n",
      "core.conformation.Conformation: [ WARNING ] missing heavyatom:  CZ  on residue ARG 52\n",
      "core.conformation.Conformation: [ WARNING ] missing heavyatom:  NH1 on residue ARG 52\n",
      "core.conformation.Conformation: [ WARNING ] missing heavyatom:  NH2 on residue ARG 52\n",
      "core.conformation.Conformation: [ WARNING ] missing heavyatom:  CG  on residue LYS 59\n",
      "core.conformation.Conformation: [ WARNING ] missing heavyatom:  CD  on residue LYS 59\n",
      "core.conformation.Conformation: [ WARNING ] missing heavyatom:  CE  on residue LYS 59\n",
      "core.conformation.Conformation: [ WARNING ] missing heavyatom:  NZ  on residue LYS 59\n",
      "core.conformation.Conformation: [ WARNING ] missing heavyatom:  CG  on residue GLU 70\n",
      "core.conformation.Conformation: [ WARNING ] missing heavyatom:  CD  on residue GLU 70\n",
      "core.conformation.Conformation: [ WARNING ] missing heavyatom:  OE1 on residue GLU 70\n",
      "core.conformation.Conformation: [ WARNING ] missing heavyatom:  OE2 on residue GLU 70\n",
      "core.conformation.Conformation: [ WARNING ] missing heavyatom:  OXT on residue LEU:CtermProteinFull 91\n",
      "core.pack.pack_missing_sidechains: packing residue number 13 because of missing atom number 6 atom name  CG\n",
      "core.pack.pack_missing_sidechains: packing residue number 15 because of missing atom number 6 atom name  CG\n",
      "core.pack.pack_missing_sidechains: packing residue number 25 because of missing atom number 6 atom name  OG\n",
      "core.pack.pack_missing_sidechains: packing residue number 28 because of missing atom number 6 atom name  CG\n",
      "core.pack.pack_missing_sidechains: packing residue number 29 because of missing atom number 6 atom name  CG\n",
      "core.pack.pack_missing_sidechains: packing residue number 32 because of missing atom number 6 atom name  CG\n",
      "core.pack.pack_missing_sidechains: packing residue number 34 because of missing atom number 6 atom name  CG\n",
      "core.pack.pack_missing_sidechains: packing residue number 43 because of missing atom number 6 atom name  CG\n",
      "core.pack.pack_missing_sidechains: packing residue number 44 because of missing atom number 6 atom name  CG\n",
      "core.pack.pack_missing_sidechains: packing residue number 52 because of missing atom number 6 atom name  CG\n",
      "core.pack.pack_missing_sidechains: packing residue number 59 because of missing atom number 6 atom name  CG\n",
      "core.pack.pack_missing_sidechains: packing residue number 70 because of missing atom number 6 atom name  CG\n",
      "core.pack.task: Packer task: initialize from command line()\n",
      "core.scoring.ScoreFunctionFactory: SCOREFUNCTION: ref2015\n",
      "core.pack.pack_rotamers: built 186 rotamers at 12 positions.\n",
      "core.pack.pack_rotamers: Requesting all available threads for interaction graph computation.\n",
      "core.pack.interaction_graph.interaction_graph_factory: Instantiating DensePDInteractionGraph\n",
      "core.pack.rotamer_set.RotamerSets: Completed interaction graph pre-calculation in 1 available threads (1 had been requested).\n"
     ]
    }
   ],
   "source": [
    "# pose_from_pdb\n",
    "#   - 接收的参数为 PDB 文件的路径\n",
    "#   - 返回一个 Pose 对象\n",
    "pose = pose_from_pdb(\"./1QYS.clean.pdb\")"
   ]
  },
  {
   "cell_type": "markdown",
   "metadata": {},
   "source": [
    "如果我们通过 `print(pose)` 来查看pose的信息，我们会发现有以下信息被打印出来：\n",
    "- PBD file name: PDB文件的名字\n",
    "- Total residues: 残基的总数\n",
    "- Sequence: 氨基酸序列\n",
    "- Fold tree: 折叠树\n",
    "    - EDGE 1 91 -1 代表从1号氨基酸到91号氨基酸的连接方式为“共价连接”"
   ]
  },
  {
   "cell_type": "code",
   "execution_count": 31,
   "metadata": {},
   "outputs": [
    {
     "name": "stdout",
     "output_type": "stream",
     "text": [
      "PDB file name: ./1QYS.clean.pdb\n",
      "Total residues: 91\n",
      "Sequence: DIQVQVNIDDNGKNFDYTYTVTTESELQKVLNELDYIKKQGAKRVRISITARTKKEAEKFAAILIKVFAELGYNDINVTFDGDTVTVEGQL\n",
      "Fold tree:\n",
      "FOLD_TREE  EDGE 1 91 -1 \n"
     ]
    }
   ],
   "source": [
    "print(pose)"
   ]
  },
  {
   "cell_type": "markdown",
   "metadata": {},
   "source": [
    "对于Pose的写出，我们可以使用 `pose.dump_pdb(pdb_file_path)` 函数来将Pose写出到PDB文件中。"
   ]
  },
  {
   "cell_type": "code",
   "execution_count": 32,
   "metadata": {},
   "outputs": [
    {
     "data": {
      "text/plain": [
       "True"
      ]
     },
     "execution_count": 32,
     "metadata": {},
     "output_type": "execute_result"
    }
   ],
   "source": [
    "# 运行后，当前目录下会出现名为 1QYS.clean.dump.pdb 的文件\n",
    "pose.dump_pdb(\"1QYS.clean.dump.pdb\")"
   ]
  },
  {
   "cell_type": "markdown",
   "metadata": {},
   "source": [
    "## 1.2 通过 Pose 获取蛋白质的信息"
   ]
  },
  {
   "cell_type": "markdown",
   "metadata": {},
   "source": [
    "### PDBinfo\n",
    "PDBinfo是Pose和PDB中信息交换和储存的重要媒介。Pose通常是从PDB文件中衍生出来的，除了原子的坐标信息以外，PDB文件中包含了许多额外的信息，而这些信息是储存在PDBinfo中。比如温度因子数据(bfactor)、晶体解析数据(crystinfo)、原子的占用率(occupancy)等。使用PDBinfo可以实现Pose编号与PDB编号的转换以及Pose的序列信息获取等功能。如果Pose中的氨基酸发生了插入和删除，又或者其他的PDB相关信息发生了变化，更新的信息就需要从当前的Pose中获取并转换成PDBinfo的数据，因此PDBinfo和Pose是实时相互连通的两个信息储存器。"
   ]
  },
  {
   "cell_type": "code",
   "execution_count": 33,
   "metadata": {},
   "outputs": [],
   "source": [
    "pdb_info = pose.pdb_info()"
   ]
  },
  {
   "cell_type": "markdown",
   "metadata": {},
   "source": [
    "在 PDB 文件中，每个氨基酸有着自己的编号，这个编号由 Chain ID 和 Residue ID 组成，例如 ‘B23’ 表示 Chain B 的第 23 个氨基酸。而在 Pose 中，氨基酸的编号是从 1 开始的，例如 “我有一个两条链组成的蛋白质，链A有100个氨基酸，链B有50个氨基酸，那么链B的第一个氨基酸在Pose中的编号是101”。\n",
    "我们可以通过 `pose.pdb_info().pdb2pose(chain_id, res_id)` 与 `pose.pdb_info().pose2pdb(res_num)` 来进行编号的转换。"
   ]
  },
  {
   "cell_type": "code",
   "execution_count": 34,
   "metadata": {},
   "outputs": [
    {
     "name": "stdout",
     "output_type": "stream",
     "text": [
      "28\n"
     ]
    }
   ],
   "source": [
    "res_num = pdb_info.pdb2pose(\"A\", 30)\n",
    "print(res_num)"
   ]
  },
  {
   "cell_type": "code",
   "execution_count": 35,
   "metadata": {},
   "outputs": [
    {
     "name": "stdout",
     "output_type": "stream",
     "text": [
      "32 A \n",
      "This residue is 32th residue in chain A\n"
     ]
    }
   ],
   "source": [
    "res_id_chain_id= pdb_info.pose2pdb(30)\n",
    "print(res_id_chain_id)\n",
    "\n",
    "res_id, chain_id = res_id_chain_id.split()\n",
    "print(\"This residue is\", f\"{res_id}th\", \"residue in chain\", chain_id)"
   ]
  },
  {
   "cell_type": "markdown",
   "metadata": {},
   "source": [
    "在PDB文件中，chain ID是以字母表示的，而在Pose中，chain ID是以数字表示的。我们可以通过 `get_chain_id_from_chain(chain_id, pose)` 与 `get_chain_from_chain_id(chain_id, pose)` 来进行编号的转换。"
   ]
  },
  {
   "cell_type": "code",
   "execution_count": 36,
   "metadata": {},
   "outputs": [
    {
     "name": "stdout",
     "output_type": "stream",
     "text": [
      "1\n",
      "A\n"
     ]
    }
   ],
   "source": [
    "from pyrosetta.rosetta.core.pose import get_chain_from_chain_id, get_chain_id_from_chain\n",
    "\n",
    "chain = 'A'\n",
    "chain_id = get_chain_id_from_chain(chain, pose)\n",
    "print(chain_id)\n",
    "\n",
    "chain_id = 1\n",
    "chain = get_chain_from_chain_id(chain_id, pose)\n",
    "print(chain)"
   ]
  },
  {
   "cell_type": "markdown",
   "metadata": {},
   "source": [
    "通过PDBinfo，我们也可以根据某个氨基酸的 PDB 编号获得其所在链的 PDB 编号。"
   ]
  },
  {
   "cell_type": "code",
   "execution_count": 37,
   "metadata": {},
   "outputs": [
    {
     "name": "stdout",
     "output_type": "stream",
     "text": [
      "A\n",
      "A\n"
     ]
    }
   ],
   "source": [
    "chain_res1 = pdb_info.chain(1)\n",
    "print(chain_res1)\n",
    "\n",
    "chain_res30 = pdb_info.chain(30)\n",
    "print(chain_res1)"
   ]
  },
  {
   "cell_type": "markdown",
   "metadata": {},
   "source": [
    "我们也可以通过 PDBinfo 获取其他 PDB 文件中的信息，比如温度因子数据(bfactor)、晶体解析数据(crystinfo)、原子的占用率(occupancy)等。"
   ]
  },
  {
   "cell_type": "code",
   "execution_count": 38,
   "metadata": {},
   "outputs": [
    {
     "data": {
      "text/plain": [
       "174.51"
      ]
     },
     "execution_count": 38,
     "metadata": {},
     "output_type": "execute_result"
    }
   ],
   "source": [
    "# 此处的 res 为 Pose 中的 residue index\n",
    "# atom_index 为原子在该 residue 中的索引\n",
    "# 在这里，我们获取了 Pose 中第一个 residue 的第一个原子的 B-factor 值\n",
    "pdb_info.bfactor(res=1, atom_index=1)"
   ]
  },
  {
   "cell_type": "code",
   "execution_count": 39,
   "metadata": {},
   "outputs": [
    {
     "name": "stdout",
     "output_type": "stream",
     "text": [
      "<CrystInfo>{0,0,0,90,90,90 : P 1}\n"
     ]
    }
   ],
   "source": [
    "# 打印出了 PDB 文件中的 CRYST1 行信息。如果 PDB 中没有指定，默认为 <CrystInfo>{0,0,0,90,90,90 : P 1}，含义请见 https://www.wwpdb.org/documentation/file-format-content/format33/sect8.html\n",
    "crystinfo = pdb_info.crystinfo()\n",
    "print(crystinfo)"
   ]
  },
  {
   "cell_type": "code",
   "execution_count": 40,
   "metadata": {},
   "outputs": [
    {
     "name": "stdout",
     "output_type": "stream",
     "text": [
      "1.0\n"
     ]
    }
   ],
   "source": [
    "# 获取 Pose 中第一个 residue 的第一个原子的 occupancy 值\n",
    "occupancy = pdb_info.occupancy(res=1, atom_index=1)\n",
    "print(occupancy)"
   ]
  },
  {
   "cell_type": "markdown",
   "metadata": {},
   "source": [
    "### Residue and Atom\n",
    "Pose中的氨基酸和原子都是通过Residue和Atom对象来表示的。Residue对象包含了氨基酸的所有信息，比如氨基酸的类型、氨基酸的坐标、氨基酸的编号等。而Atom对象则包含了原子的所有信息，比如原子的类型、原子的坐标、原子的编号等。"
   ]
  },
  {
   "cell_type": "code",
   "execution_count": 41,
   "metadata": {},
   "outputs": [
    {
     "name": "stdout",
     "output_type": "stream",
     "text": [
      "Residue 1: ASP:NtermProteinFull (ASP, D):\n",
      "Base: ASP\n",
      " Properties: POLYMER PROTEIN CANONICAL_AA LOWER_TERMINUS SC_ORBITALS POLAR CHARGED NEGATIVE_CHARGE METALBINDING ALPHA_AA L_AA\n",
      " Variant types: LOWER_TERMINUS_VARIANT\n",
      " Main-chain atoms:  N    CA   C  \n",
      " Backbone atoms:    N    CA   C    O   1H   2H   3H    HA \n",
      " Side-chain atoms:  CB   CG   OD1  OD2 1HB  2HB \n",
      "Atom Coordinates:\n",
      "   N  : -4.522, 18.306, 17.409\n",
      "   CA : -3.061, 18.228, 17.122\n",
      "   C  : -2.664, 16.993, 16.324\n",
      "   O  : -3.515, 16.306, 15.754\n",
      "   CB : -2.261, 18.246, 18.422\n",
      "   CG : -1.658, 19.6, 18.711\n",
      "   OD1: -1.169, 20.249, 17.76\n",
      "   OD2: -1.654, 20.007, 19.892\n",
      "  1H  : -4.71545, 19.1355, 17.9329\n",
      "  2H  : -5.03047, 18.3298, 16.5482\n",
      "  3H  : -4.80138, 17.5051, 17.9386\n",
      "   HA : -2.77857, 19.0965, 16.5263\n",
      "  1HB : -2.90919, 17.9643, 19.2521\n",
      "  2HB : -1.46025, 17.508, 18.3669\n",
      "Mirrored relative to coordinates in ResidueType: FALSE\n",
      "\n"
     ]
    }
   ],
   "source": [
    "# 可以通过 rosetta 的 residue index 获取 Pose 中的 residue\n",
    "res = pose.residue(1)\n",
    "# 通过 print，我们可以看到该 residue 的信息\n",
    "print(res)"
   ]
  },
  {
   "cell_type": "code",
   "execution_count": 42,
   "metadata": {},
   "outputs": [
    {
     "name": "stdout",
     "output_type": "stream",
     "text": [
      "Haro_index\n",
      "Hpol_index\n",
      "Hpos_apolar\n",
      "Hpos_polar\n",
      "Hpos_polar_sc\n",
      "RNA_info\n",
      "aa\n",
      "abase2\n",
      "accpt_pos\n",
      "accpt_pos_sc\n",
      "actcoord\n",
      "actcoord_atoms\n",
      "actual_residue_connection\n",
      "all_bb_atoms\n",
      "annotated_name\n",
      "apply_transform_Rx_plus_v\n",
      "atom\n",
      "atom_base\n",
      "atom_depends_on_lower\n",
      "atom_depends_on_upper\n",
      "atom_index\n",
      "atom_is_backbone\n",
      "atom_is_hydrogen\n",
      "atom_is_polar_hydrogen\n",
      "atom_name\n",
      "atom_type\n",
      "atom_type_index\n",
      "atom_type_set\n",
      "atomic_charge\n",
      "atoms\n",
      "atoms_with_orb_index\n",
      "attached_H_begin\n",
      "attached_H_end\n",
      "backbone_aa\n",
      "bonded_neighbor\n",
      "bonded_orbitals\n",
      "build_atom_ideal\n",
      "build_orbital_xyz\n",
      "carbohydrate_info\n",
      "chain\n",
      "chi\n",
      "chi_atoms\n",
      "chi_rotamers\n",
      "clear_residue_connections\n",
      "clone\n",
      "clone_flipping_chirality\n",
      "connect_atom\n",
      "connect_map\n",
      "connect_map_size\n",
      "connected_residue_at_lower\n",
      "connected_residue_at_resconn\n",
      "connected_residue_at_upper\n",
      "connection_distance\n",
      "connection_incomplete\n",
      "connections_match\n",
      "connections_to_residue\n",
      "copy_residue_connections\n",
      "copy_residue_connections_from\n",
      "create_residue\n",
      "create_rotamer\n",
      "cut_bond_neighbor\n",
      "data\n",
      "data_ptr\n",
      "fill_missing_atoms\n",
      "first_adjacent_heavy_atom\n",
      "first_sidechain_atom\n",
      "first_sidechain_hydrogen\n",
      "get_adjacent_heavy_atoms\n",
      "get_atoms_exocyclic_to_ring_atom\n",
      "get_hydrogens_bonded_to_ring_atom\n",
      "get_metal_binding_atoms\n",
      "get_pseudobonds_to_residue\n",
      "get_self_ptr\n",
      "get_self_weak_ptr\n",
      "get_substituents_to_ring_atom\n",
      "has\n",
      "has_incomplete_connection\n",
      "has_lower_connect\n",
      "has_property\n",
      "has_sc_orbitals\n",
      "has_shadow_atoms\n",
      "has_upper_connect\n",
      "has_variant_type\n",
      "heavyatom_has_polar_hydrogens\n",
      "heavyatom_is_an_acceptor\n",
      "icoor\n",
      "inter_residue_connection_partner\n",
      "is_DNA\n",
      "is_NA\n",
      "is_RNA\n",
      "is_TNA\n",
      "is_apolar\n",
      "is_aramid\n",
      "is_aromatic\n",
      "is_bonded\n",
      "is_branch_point\n",
      "is_carbohydrate\n",
      "is_charged\n",
      "is_coarse\n",
      "is_d_rna\n",
      "is_l_rna\n",
      "is_ligand\n",
      "is_lower_terminus\n",
      "is_meta_aramid\n",
      "is_metal\n",
      "is_metalbinding\n",
      "is_ortho_aramid\n",
      "is_para_aramid\n",
      "is_peptoid\n",
      "is_polar\n",
      "is_polymer\n",
      "is_polymer_bonded\n",
      "is_post_methylene_meta_aramid\n",
      "is_post_methylene_ortho_aramid\n",
      "is_post_methylene_para_aramid\n",
      "is_pre_methylene_meta_aramid\n",
      "is_pre_methylene_ortho_aramid\n",
      "is_pre_methylene_para_aramid\n",
      "is_pre_methylene_post_methylene_meta_aramid\n",
      "is_pre_methylene_post_methylene_ortho_aramid\n",
      "is_pre_methylene_post_methylene_para_aramid\n",
      "is_protein\n",
      "is_pseudo_bonded\n",
      "is_purine\n",
      "is_pyrimidine\n",
      "is_repulsive\n",
      "is_similar_aa\n",
      "is_similar_rotamer\n",
      "is_sri\n",
      "is_surface\n",
      "is_terminus\n",
      "is_triazolemer\n",
      "is_upper_terminus\n",
      "is_virtual\n",
      "is_virtual_residue\n",
      "is_water\n",
      "last_backbone_atom\n",
      "lower_connect\n",
      "lower_connect_atom\n",
      "mainchain_atom\n",
      "mainchain_atoms\n",
      "mainchain_torsion\n",
      "mainchain_torsions\n",
      "mark_connect_incomplete\n",
      "mirrored_relative_to_type\n",
      "misplaced\n",
      "mm_atom_name\n",
      "n_bonded_neighbor_all_res\n",
      "n_current_residue_connections\n",
      "n_hbond_acceptors\n",
      "n_hbond_donors\n",
      "n_mainchain_atoms\n",
      "n_non_polymeric_residue_connections\n",
      "n_nus\n",
      "n_orbitals\n",
      "n_polymeric_residue_connections\n",
      "n_possible_residue_connections\n",
      "n_virtual_atoms\n",
      "na_analogue\n",
      "name\n",
      "name1\n",
      "name3\n",
      "natoms\n",
      "nbr_atom\n",
      "nbr_atom_xyz\n",
      "nbr_radius\n",
      "nbrs\n",
      "nchi\n",
      "nheavyatoms\n",
      "nonconst_data\n",
      "nonconst_data_ptr\n",
      "nu\n",
      "nu_atoms\n",
      "nus\n",
      "orbital_name\n",
      "orbital_type\n",
      "orbital_type_index\n",
      "orbital_xyz\n",
      "orient_onto_location\n",
      "orient_onto_residue\n",
      "orient_onto_residue_peptoid\n",
      "path_distance\n",
      "path_distances\n",
      "place\n",
      "polymeric_oriented_sequence_distance\n",
      "polymeric_sequence_distance\n",
      "pseudobonds\n",
      "requires_actcoord\n",
      "residue_connect_atom_index\n",
      "residue_connection\n",
      "residue_connection_conn_id\n",
      "residue_connection_partner\n",
      "resolve_partial_atom_id\n",
      "ring_conformer\n",
      "select_orient_atoms\n",
      "seqpos\n",
      "set_all_chi\n",
      "set_all_nu\n",
      "set_all_ring_nu\n",
      "set_chi\n",
      "set_d\n",
      "set_mirrored_relative_to_type\n",
      "set_orbital_xyz\n",
      "set_pseudobonds_to_residue\n",
      "set_tau\n",
      "set_theta\n",
      "set_xyz\n",
      "show\n",
      "type\n",
      "type_ptr\n",
      "update_actcoord\n",
      "update_connections_to_other_residue\n",
      "update_nus\n",
      "update_orbital_coords\n",
      "update_sequence_numbering\n",
      "upper_connect\n",
      "upper_connect_atom\n",
      "xyz\n"
     ]
    }
   ],
   "source": [
    "# 使用 res 对象的常见属性\n",
    "for f in dir(res):\n",
    "    if not f.startswith(\"_\"):\n",
    "        print(f)"
   ]
  },
  {
   "cell_type": "code",
   "execution_count": 43,
   "metadata": {},
   "outputs": [
    {
     "name": "stdout",
     "output_type": "stream",
     "text": [
      "res.name(): ASP:NtermProteinFull\n",
      "res.name1(): D\n",
      "res.name3(): ASP\n",
      "res.chain(): 1\n",
      "res.seqpos(): 1\n",
      "res.chi(2): -40.42196535123693\n",
      "res.heavyatom_has_polar_hydrogens(3): False\n",
      "res.heavyatom_is_an_acceptor(2): False\n",
      "res.is_DNA(): False\n",
      "res.is_RNA(): False\n",
      "res.is_NA(): False\n",
      "res.is_polar(): True\n",
      "res.is_charged(): True\n",
      "res.is_aromatic(): False\n",
      "res.is_protein(): True\n"
     ]
    },
    {
     "data": {
      "text/plain": [
       "Ellipsis"
      ]
     },
     "execution_count": 43,
     "metadata": {},
     "output_type": "execute_result"
    }
   ],
   "source": [
    "# 可以看到，residue 对象中有很多属性，这里我们打印出了其中常用的一些属性，其他很多我也没用过 :(\n",
    "print(\"res.name():\", res.name())        # residue 的名字，rosetta 中对于每种氨基酸有很多不同的名字，比如这里的ASP:NtermProteinFull，特指 N 端的 ASP\n",
    "print(\"res.name1():\", res.name1())      # residue 的缩写，D\n",
    "print(\"res.name3():\", res.name3())      # residue 的三字母缩写，ASP\n",
    "print(\"res.chain():\", res.chain())      # residue 的 chain id，1\n",
    "print(\"res.seqpos():\", res.seqpos())    # residue 的序号，1\n",
    "print(\"res.chi(2):\", res.chi(2))        # residue 的第2个 chi 角\n",
    "print(\"res.heavyatom_has_polar_hydrogens(3):\", res.heavyatom_has_polar_hydrogens(3))  # residue 的第3个重原子是否有极性氢，False\n",
    "print(\"res.heavyatom_is_an_acceptor(2):\", res.heavyatom_is_an_acceptor(2))            # residue 的第2个重原子是否是受体，False\n",
    "print(\"res.is_DNA():\", res.is_DNA())    # residue 是否是 DNA，False\n",
    "print(\"res.is_RNA():\", res.is_RNA())    # residue 是否是 RNA，False\n",
    "print(\"res.is_NA():\", res.is_NA())      # residue 是否是 NA，False\n",
    "print(\"res.is_polar():\", res.is_polar())  # residue 是否是极性的，True\n",
    "print(\"res.is_charged():\", res.is_charged())  # residue 是否是带电的，True\n",
    "print(\"res.is_aromatic():\", res.is_aromatic())  # residue 是否是芳香的，False\n",
    "print(\"res.is_protein():\", res.is_protein())  # residue 是否是 protein，True\n",
    "..."
   ]
  },
  {
   "cell_type": "markdown",
   "metadata": {},
   "source": [
    "氨基酸的原子信息在rosetta由许多自带的params文件定义，常见的氨基酸中所包含的原子顺序和键连关系是固定的，我们可以通过相应的原子编号来获取氨基酸中的原子信息。"
   ]
  },
  {
   "cell_type": "code",
   "execution_count": 44,
   "metadata": {},
   "outputs": [
    {
     "name": "stdout",
     "output_type": "stream",
     "text": [
      "5\n"
     ]
    }
   ],
   "source": [
    "# 通过原子名字获取原子索引\n",
    "atom_index = res.atom_index(\"CB\")\n",
    "print(atom_index)"
   ]
  },
  {
   "cell_type": "code",
   "execution_count": 45,
   "metadata": {},
   "outputs": [
    {
     "name": "stdout",
     "output_type": "stream",
     "text": [
      "1  N  \n",
      "2  CA \n",
      "3  C  \n",
      "4  O  \n",
      "5  CB \n",
      "6  CG \n",
      "7  OD1\n",
      "8  OD2\n",
      "9 1H  \n",
      "10 2H  \n",
      "11 3H  \n",
      "12  HA \n",
      "13 1HB \n",
      "14 2HB \n"
     ]
    }
   ],
   "source": [
    "# 或者我们可以直接将氨基酸中的原子名字打印出来，查看我们需要的原子索引\n",
    "for atom_idx in range(1, res.natoms() + 1):\n",
    "    print(atom_idx, res.atom_name(atom_idx))"
   ]
  },
  {
   "cell_type": "markdown",
   "metadata": {},
   "source": [
    "在知道了氨基酸的编号与原子的编号后，我们可以查看原子的信息，比如："
   ]
  },
  {
   "cell_type": "code",
   "execution_count": 46,
   "metadata": {},
   "outputs": [
    {
     "name": "stdout",
     "output_type": "stream",
     "text": [
      "atom coordinate: -2.261,18.246,18.422\n",
      "atom coordinate: -2.261,18.246,18.422\n",
      "atom coordinate: -2.261,18.246,18.422\n"
     ]
    }
   ],
   "source": [
    "atom_idx = res.atom_index(\"CB\")\n",
    "print(\"atom coordinate:\", res.xyz(atom_idx))\n",
    "# 也有其他的方法可以获取原子坐标\n",
    "print(\"atom coordinate:\", res.xyz(\"CB\"))\n",
    "print(\"atom coordinate:\", res.atom(\"CB\").xyz())"
   ]
  },
  {
   "cell_type": "code",
   "execution_count": 47,
   "metadata": {},
   "outputs": [
    {
     "name": "stdout",
     "output_type": "stream",
     "text": [
      "C\n",
      "2.01176\n"
     ]
    }
   ],
   "source": [
    "# 通过原子索引获取 atomtype 对象，atomtype 对象中包含了原子的一些信息\n",
    "atom_type = res.atom_type(atom_idx)\n",
    "print(atom_type.element())      # 原子元素\n",
    "print(atom_type.lj_radius())    # Lennard-Jones 半径"
   ]
  },
  {
   "cell_type": "markdown",
   "metadata": {},
   "source": [
    "### 键长，键角，二面角与二级结构"
   ]
  },
  {
   "cell_type": "markdown",
   "metadata": {},
   "source": [
    "我们可以根据指定的氨基酸编号与原子编号来获取原子的键长，键角信息。\n",
    "\n",
    "我们可以根据指定的氨基酸编号来获取氨基酸的二面角信息，比如phi，psi，omega等。我们也可以通过氨基酸的编号来获取氨基酸的二级结构信息，比如氨基酸是在螺旋中还是在β折叠中。"
   ]
  },
  {
   "cell_type": "code",
   "execution_count": 48,
   "metadata": {},
   "outputs": [
    {
     "name": "stdout",
     "output_type": "stream",
     "text": [
      "1.4507246465129082\n",
      "1.9615130454258285\n",
      "1.4909641176098103\n",
      "1.9808992033042023\n"
     ]
    }
   ],
   "source": [
    "# 获取原子间的键长、键角信息前需要构建atom identifier objects\n",
    "from pyrosetta.rosetta.core.id import AtomID\n",
    "atom1 = AtomID(atomno_in=1, rsd_in=3)  # 3号残基的第一个原子\n",
    "atom2 = AtomID(atomno_in=2, rsd_in=3)  # 3号残基的第二个原子\n",
    "atom3 = AtomID(atomno_in=3, rsd_in=3)  # 3号残基的第三个原子\n",
    "atom4 = AtomID(atomno_in=4, rsd_in=3)  # 3号残基的第四个原子\n",
    "\n",
    "# 获取原子间的键长\n",
    "print(pose.conformation().bond_length(atom1, atom2))\n",
    "# 获取原子间的键角 （这里采用的是弧度制）\n",
    "print(pose.conformation().bond_angle(atom1, atom2, atom3))\n",
    "\n",
    "# 当然，我们也可以根据原子坐标计算键长、键角\n",
    "import numpy as np\n",
    "atom1_xyz = res.xyz(atom1.atomno())\n",
    "atom2_xyz = res.xyz(atom2.atomno())\n",
    "atom3_xyz = res.xyz(atom3.atomno())\n",
    "atom4_xyz = res.xyz(atom4.atomno())\n",
    "\n",
    "# 计算键长\n",
    "bond_length = np.linalg.norm(atom1_xyz - atom2_xyz)\n",
    "print(bond_length)\n",
    "\n",
    "# 计算键角\n",
    "v1 = atom1_xyz - atom2_xyz\n",
    "v2 = atom3_xyz - atom2_xyz\n",
    "cos_theta = np.dot(v1, v2) / (np.linalg.norm(v1) * np.linalg.norm(v2))\n",
    "angle = np.arccos(cos_theta)\n",
    "print(angle)\n",
    "\n",
    "# 他们有一些细微的差别，这是由于 rosetta 中的一些c++代码的实现细节导致的"
   ]
  },
  {
   "cell_type": "code",
   "execution_count": 49,
   "metadata": {},
   "outputs": [
    {
     "name": "stdout",
     "output_type": "stream",
     "text": [
      "-168.83044128228795\n",
      "80.22197803150706\n",
      "178.53745064581165\n",
      "2\n",
      "1 -168.00904471494758\n",
      "2 37.275585359271616\n"
     ]
    }
   ],
   "source": [
    "phi = pose.phi(10)\n",
    "print(phi)\n",
    "psi = pose.psi(10)\n",
    "print(psi)\n",
    "omega = pose.omega(10)\n",
    "print(omega)\n",
    "\n",
    "# 因为每个氨基酸的侧链的原子数不同，因此我们可以通过 res.nchi() 获取侧链的 chi 角数\n",
    "res = pose.residue(10)\n",
    "nchi = res.nchi()\n",
    "print(nchi)\n",
    "for chi_idx in range(1, nchi + 1):\n",
    "    print(chi_idx, res.chi(chi_idx)) # 获取第 chi_idx 个 chi 角的值"
   ]
  },
  {
   "cell_type": "code",
   "execution_count": 50,
   "metadata": {},
   "outputs": [
    {
     "name": "stdout",
     "output_type": "stream",
     "text": [
      "protocols.DsspMover: LEEEEEEEELLLLEEEEEEEELLLLHHHHHHHHHHHHHHHLLLEEEEEEELLLHHHHHHHHHHHHHHHHHLLLLEEEEEEELLEEEEEEEL\n"
     ]
    }
   ],
   "source": [
    "# 我们也可以使用pyrosetta获取二级结构信息\n",
    "# 二级结构信息是通过DSSP算法计算得到的\n",
    "# 其中\n",
    "#   - H: Helix\n",
    "#   - E: Beta strand\n",
    "#   - L: Loop\n",
    "from pyrosetta.rosetta.protocols.membrane import get_secstruct\n",
    "ss = ''.join(get_secstruct(pose))"
   ]
  },
  {
   "cell_type": "markdown",
   "metadata": {},
   "source": [
    "在有了上述信息后，我们可以做一些比较有趣的事情，比如绘制这个蛋白质的二级结构图。\n",
    "在运行下列代码前，你可能需要安装 `matplotlib` 这个库，你可以通过\n",
    "```bash\n",
    "conda activate <your_env>\n",
    "conda install matplotlib\n",
    "```\n",
    "来安装这个库，并重启这个notebook。"
   ]
  },
  {
   "cell_type": "code",
   "execution_count": 51,
   "metadata": {},
   "outputs": [
    {
     "data": {
      "image/png": "[encoded data removed]",
      "text/plain": [
       "<Figure size 640x480 with 1 Axes>"
      ]
     },
     "metadata": {},
     "output_type": "display_data"
    }
   ],
   "source": [
    "import matplotlib.pyplot as plt\n",
    "\n",
    "phi_list = []\n",
    "psi_list = []\n",
    "ss_list = []\n",
    "for res in range(1, pose.size() + 1):\n",
    "    phi_list.append(pose.phi(res))\n",
    "    psi_list.append(pose.psi(res))\n",
    "    ss_list.append(ss[res - 1])\n",
    "\n",
    "# color by secondary structure\n",
    "plt.scatter(phi_list, psi_list, c=[{'H': 'r', 'E': 'b', 'L': 'g'}[_ss] for _ss in ss_list])\n",
    "plt.legend(handles=[plt.Line2D([0], [0], marker='o', color='w', markerfacecolor='r', markersize=10, label='Helix'),\n",
    "                    plt.Line2D([0], [0], marker='o', color='w', markerfacecolor='b', markersize=10, label='Beta strand'),\n",
    "                    plt.Line2D([0], [0], marker='o', color='w', markerfacecolor='g', markersize=10, label='Loop')])\n",
    "plt.xlabel(\"phi\")\n",
    "plt.ylabel(\"psi\")\n",
    "plt.xlim(-180, 180)\n",
    "plt.ylim(-180, 180)\n",
    "plt.title(\"Ramachandran plot\")\n",
    "plt.show()"
   ]
  },
  {
   "cell_type": "markdown",
   "metadata": {},
   "source": [
    "我们也可以看一下这个蛋白质中的chi1角的分布。"
   ]
  },
  {
   "cell_type": "code",
   "execution_count": 52,
   "metadata": {},
   "outputs": [
    {
     "data": {
      "image/png": "[encoded data removed]",
      "text/plain": [
       "<Figure size 640x480 with 1 Axes>"
      ]
     },
     "metadata": {},
     "output_type": "display_data"
    }
   ],
   "source": [
    "chi1s = []\n",
    "for res_id in range(1, pose.size() + 1):\n",
    "    res = pose.residue(res_id)\n",
    "    nchi = res.nchi()\n",
    "    if nchi >= 1:\n",
    "        chi1s.append(res.chi(1))\n",
    "chi1s = [chi + 360 if chi < 0 else chi for chi in chi1s]\n",
    "x_axis = range(0, 360, 15)\n",
    "plt.hist(chi1s, bins=x_axis)\n",
    "plt.xlabel(\"chi1\")\n",
    "plt.gca().axes.get_yaxis().set_visible(False)\n",
    "plt.title(\"chi1 distribution\")\n",
    "plt.show()"
   ]
  },
  {
   "cell_type": "markdown",
   "metadata": {},
   "source": [
    "# Section 2: Energy"
   ]
  },
  {
   "cell_type": "markdown",
   "metadata": {},
   "source": [
    "经过第一章的学习，我们知道在pyrosetta中通过Pose储存构象的所有信息。\n",
    "\n",
    "对于一个大分子构象而言，例如一个简单的含有一个蛋白Model的PDB文件，Rosetta对其中构象的处理主要分为全原子描述（Full atom representation）和质心描述（centriod representation）。\n",
    "\n",
    "全原子描述，即对蛋白的所有原子都采用精确（x, y, z）坐标进行描述的方法。相比之下，质心描述保留骨架部分的精确全原子描述，但简化了氨基酸残基的侧链，通过对残基整体性质（坐标、原子质量、体积等）计算构建出一个假原子（pseudo atom，又称CEN原子），以该假原子作为原本侧链剩余部分的描述。侧链质心的位置基于侧链整体的质心决定，而假原子的大小由侧链的平均大小决定。可见，这种处理方式简化了蛋白构象，或者说丢失了部分信息，是一种“粗粒化”的描述。\n",
    "\n",
    "---\n",
    "\n",
    "问题一：为什么要费事进行“粗粒化”，而不全部采取精确全原子描述？\n",
    "\n",
    "理想的情况而言，当我们拥有无尽的时间和无限的计算能力，我们当然是希望所有的体系优化的时候都能够使用全原子表示进行。但往往这是不切实际的，这是出现了简化的质心表示的第一个原因。其次，选择质心表示也可以让能量面比之于全原子表示更为平坦，更有效率地在空间中进行大规模采样，也更容易通过蒙特卡洛标准。（全原子表示的能量面非常崎岖，在执行蒙特卡洛搜索的时候，很多的搜索都会被蒙特卡洛规则拒绝掉而大概率陷入局域最小值）\n",
    "\n",
    "---\n",
    "\n",
    "问题二：质心模式的缺点是什么？\n",
    "\n",
    "前文提过，质心描述以牺牲分辨率、丢失信息为代价而获得较快的构象空间搜索效率。这种信息的丢失，主要是侧链，例如侧链的氢键作用、侧链范式作用等细节，就没有被显式捕获到。相比之下，rosetta中会通过成对的统计学势能（pair-wise statistical potenhtial）和范式作用的范围型近似(VdW sphere approximation)去隐式捕获这些作用，但是这种处理是近似的、不精确的。\n",
    "\n",
    "---\n",
    "\n",
    "总结\n",
    "\n",
    "这种两种原子模型在rosetta大部分protocal中都会涉及到。基本思路：首先通过质心粗颗粒描述快速搜索大量的构象空间，称为“low-resolution/Coarse-grain phase”，这样可以快速在能量面上找到能量较低的范围；然后通过全原子描述在该范围内进一步精确、优化地寻找低能构象的细节，称为“high-resolution refinement phase”。"
   ]
  },
  {
   "cell_type": "code",
   "execution_count": 53,
   "metadata": {},
   "outputs": [
    {
     "name": "stdout",
     "output_type": "stream",
     "text": [
      "True\n",
      "core.chemical.GlobalResidueTypeSet: Finished initializing centroid residue type set.  Created 69 residue types\n",
      "core.chemical.GlobalResidueTypeSet: Total time to initialize 0.020111 seconds.\n",
      "False\n",
      "True\n"
     ]
    },
    {
     "data": {
      "text/plain": [
       "True"
      ]
     },
     "execution_count": 53,
     "metadata": {},
     "output_type": "execute_result"
    }
   ],
   "source": [
    "# 我们可以通过 SwitchResidueTypeSetMover 实现全原子和质心之间的转换\n",
    "from pyrosetta.rosetta.protocols.simple_moves import SwitchResidueTypeSetMover\n",
    "\n",
    "to_centroid = SwitchResidueTypeSetMover(\"centroid\")\n",
    "to_fullatom = SwitchResidueTypeSetMover(\"fa_standard\")\n",
    "\n",
    "print(pose.is_fullatom()) # True\n",
    "\n",
    "to_centroid.apply(pose)\n",
    "print(pose.is_fullatom()) # False\n",
    "pose.dump_pdb(\"1QYS.centroid.pdb\")\n",
    "\n",
    "to_fullatom.apply(pose)\n",
    "print(pose.is_fullatom()) # True\n",
    "pose.dump_pdb(\"1QYS.fullatom.pdb\")\n",
    "\n",
    "# 打开PDB看一下吧！\n"
   ]
  },
  {
   "cell_type": "markdown",
   "metadata": {},
   "source": [
    "蛋白质建模时面对的第一个直观的问题是: 给定一个构象，如何判断它建模质量好坏？\n",
    "<!-- ![](./img/energy_good_or_bad.jpg) -->\n",
    "<!-- image too large, scale it -->\n",
    "<img src=\"./img/energy_good_or_bad.jpg\" width = \"50%\" height = \"50%\" div align=center />\n",
    "\n",
    "如果让你从直觉上去判断，上述绿色和紫红色的蛋白结构，哪个更加的稳定，该如何判断呢？\n",
    "\n",
    "如果是比较有经验的人士，会认为绿色的模型更接近于真实的蛋白结构，原因是蛋白质往往依靠疏水相互作用驱使折叠成能量最低的状态，而粉红色的右下角处的α螺旋与周围的结合紧密程度较差，蛋白质存在空腔。\n",
    "\n",
    "如果我们使用Rosetta能量函数去打分，那么绿色模型的能量也显著低于粉红色的模型。也就是说Rosetta的能量函数与我们直觉的判断结果一致。那么有趣的问题来了，Rosetta能量函数为何可以较为准确地评估模型的好坏？\n",
    "\n",
    "<img src=\"./img/energy_good_or_bad2.jpg\" width = \"50%\" height = \"50%\" div align=center />"
   ]
  },
  {
   "cell_type": "markdown",
   "metadata": {},
   "source": [
    "Rosetta能量函数由一系列可衡量的几何统计或经典物理相互作用能量经过加权后得到的函数形式。在给定原子坐标的条件下，评估原子之间的相互作用能量的大小。在之前版本的Rosetta中，能量的单位是REU(Rosetta Energy Unit)，而最新版本的full-atom打分函数(ref2015))经过矫正，目前单位为kcals/mol。\n",
    "\n",
    "Rosetta中能量项可以分为以下三类：\n",
    "1. One Body：通常这类打分项只和单个氨基酸构象有关，比如骨架的二面角，侧链的rotamer构象等；\n",
    "2. One Body：通常这类打分项只和单个氨基酸构象有关，比如骨架的二面角，侧链的rotamer构象等；\n",
    "3. Whole Body：从整体几何性质或其他的指标考虑蛋白质的能量，如蛋白质的回旋半径，二级结构组成等可统计的量。(大多数据centroid能量函数使用，粗略描述蛋白性质)\n",
    "\n",
    "简单来说在得到了多个打分项后，通常会在给定一些数据集条件下，通过拟合权重，就可以表现比较良好的打分函数。这些能量函数的组合方式与权重选择往往与具体的应用场景、个人习惯有关。在许多使用Rosetta的实验室中，都会根据自己的经验和数据集，对Rosetta的能量函数进行调整。如果你下载相关论文的Supplementary Material，你会发现很多实验室都会提供自己调整后的能量函数（比如 [蛋白质top7的设计](https://www.science.org/doi/suppl/10.1126/science.1089427/suppl_file/1089427s.pdf) ）。\n",
    "\n",
    "在漫长（也不是很漫长）的发展历史中，人们总结出来了一些常用的能量函数组合，比如 ref2015（see more at [link1](https://docs.rosettacommons.org/docs/latest/rosetta_basics/scoring/score-types) and [link2](https://docs.rosettacommons.org/docs/latest/rosetta_basics/scoring/Scorefunction-History))。\n",
    "\n",
    "<!-- replace link with text -->\n",
    "<!-- [Rosetta Energy Function](https://www.rosettacommons.org/docs/latest/rosetta_basics/scoring/score-types) -->"
   ]
  },
  {
   "cell_type": "code",
   "execution_count": 54,
   "metadata": {},
   "outputs": [
    {
     "name": "stdout",
     "output_type": "stream",
     "text": [
      "ScoreFunction::show():\n",
      "weights: (fa_atr 1) (fa_rep 0.55) (fa_sol 1) (fa_intra_rep 0.005) (fa_intra_sol_xover4 1) (lk_ball_wtd 1) (fa_elec 1) (pro_close 1.25) (hbond_sr_bb 1) (hbond_lr_bb 1) (hbond_bb_sc 1) (hbond_sc 1) (dslf_fa13 1.25) (omega 0.4) (fa_dun 0.7) (p_aa_pp 0.6) (yhh_planarity 0.625) (ref 1) (rama_prepro 0.45)\n",
      "energy_method_options: EnergyMethodOptions::show: aa_composition_setup_files: \n",
      "EnergyMethodOptions::show: mhc_epitope_setup_files: \n",
      "EnergyMethodOptions::show: netcharge_setup_files: \n",
      "EnergyMethodOptions::show: aspartimide_penalty_value: 25\n",
      "EnergyMethodOptions::show: etable_type: FA_STANDARD_DEFAULT\n",
      "analytic_etable_evaluation: 1\n",
      "EnergyMethodOptions::show: method_weights: ref 1.32468 3.25479 -2.14574 -2.72453 1.21829 0.79816 -0.30065 2.30374 -0.71458 1.66147 1.65735 -1.34026 -1.64321 -1.45095 -0.09474 -0.28969 1.15175 2.64269 2.26099 0.58223\n",
      "EnergyMethodOptions::show: method_weights: free_res\n",
      "EnergyMethodOptions::show: unfolded_energies_type: UNFOLDED_SCORE12\n",
      "EnergyMethodOptions::show: split_unfolded_label_type: SPLIT_UNFOLDED_MM\n",
      "EnergyMethodOptions::show: split_unfolded_value_type: SPLIT_UNFOLDED_BOLTZ\n",
      "EnergyMethodOptions::show: atom_vdw_atom_type_set_name: centroid\n",
      "EnergyMethodOptions::show: covalent_labeling_input: \n",
      "EnergyMethodOptions::show: covalent_labeling_fa_input: \n",
      "EnergyMethodOptions::show: hrf_dynamics_input: \n",
      "EnergyMethodOptions::show: depc_ms_input: \n",
      "EnergyMethodOptions::show: exclude_protein_protein_fa_elec: false\n",
      "EnergyMethodOptions::show: exclude_RNA_RNA_fa_elec: false\n",
      "EnergyMethodOptions::show: exclude_RNA_protein_fa_elec: false\n",
      "EnergyMethodOptions::show: exclude_monomer_fa_elec: false\n",
      "EnergyMethodOptions::show: elec_max_dis: 5.5\n",
      "EnergyMethodOptions::show: elec_min_dis: 1.6\n",
      "EnergyMethodOptions::show: elec_die: 10\n",
      "EnergyMethodOptions::show: elec_no_dis_dep_die: false\n",
      "EnergyMethodOptions::show: elec_sigmoidal_die: true\n",
      "EnergyMethodOptions::show: elec_sigmoidal_D: 80\n",
      "EnergyMethodOptions::show: elec_sigmoidal_D0: 6\n",
      "EnergyMethodOptions::show: elec_sigmoidal_S: 0.4\n",
      "EnergyMethodOptions::show: smooth_fa_elec: true\n",
      "EnergyMethodOptions::show: grpelec_fade_type: false\n",
      "EnergyMethodOptions::show: grpelec_fade_param1: 1\n",
      "EnergyMethodOptions::show: grpelec_fade_param2: 1\n",
      "EnergyMethodOptions::show: grpelec_fade_hbond: 0\n",
      "EnergyMethodOptions::show: grp_cpfxn: 1\n",
      "EnergyMethodOptions::show: elec_group_file: /scoring/score_functions/elec_group_def.dat\n",
      "EnergyMethodOptions::show: grpelec_context_dependent: 0\n",
      "EnergyMethodOptions::show: use_polarization: true\n",
      "EnergyMethodOptions::show: use_gen_kirkwood: true\n",
      "EnergyMethodOptions::show: protein_dielectric: 1\n",
      "EnergyMethodOptions::show: water_dielectric: 78.3\n",
      "EnergyMethodOptions::show: exclude_DNA_DNA: false\n",
      "EnergyMethodOptions::show: exclude_intra_res_protein: false\n",
      "EnergyMethodOptions::show: count_pair_hybrid: false\n",
      "EnergyMethodOptions::show: count_pair_full: false\n",
      "EnergyMethodOptions::show: put_intra_into_total: false\n",
      "EnergyMethodOptions::show: geom_sol_interres_path_distance_cutoff: false\n",
      "EnergyMethodOptions::show: geom_sol_intrares_path_distance_cutoff: true\n",
      "EnergyMethodOptions::show: eval_intrares_elec_ST_only: false\n",
      "EnergyMethodOptions::show: envsmooth_zero_negatives: false\n",
      "EnergyMethodOptions::show: cst_max_seq_sep: 18446744073709551615\n",
      "EnergyMethodOptions::show: pb_bound_tag: bound\n",
      "EnergyMethodOptions::show: pb_unbound_tag: unbound\n",
      "EnergyMethodOptions::show: arg_cation_pi_his_can_be_pi: 1\n",
      "EnergyMethodOptions::show: ordered_wat_penalty: 1.221\n",
      "EnergyMethodOptions::show: ordered_pt_wat_penalty: 2.709\n",
      "EnergyMethodOptions::show: nmer_ref_seq_length_: 9\n",
      "EnergyMethodOptions::show: nmer_svm_term_length_: 3\n",
      "EnergyMethodOptions::show: nmer_svm_pssm_feat_: 1\n",
      "EnergyMethodOptions::show: nmer_svm_scorecut_defined_: 0\n",
      "EnergyMethodOptions::show: nmer_svm_scorecut_: 0\n",
      "EnergyMethodOptions::show: nmer_svm_avg_rank_as_energy_: 0\n",
      "EnergyMethodOptions::show: nmer_svm_aa_matrix_defined_: 0\n",
      "EnergyMethodOptions::show: nmer_svm_aa_matrix_: \n",
      "EnergyMethodOptions::show: nmer_svm_list_defined_: 0\n",
      "EnergyMethodOptions::show: nmer_svm_list_: \n",
      "EnergyMethodOptions::show: nmer_svm_defined_: 0\n",
      "EnergyMethodOptions::show: nmer_svm_: \n",
      "EnergyMethodOptions::show: nmer_svm_rank_list_defined_: 0\n",
      "EnergyMethodOptions::show: nmer_svm_rank_list_: \n",
      "EnergyMethodOptions::show: nmer_svm_rank_defined_: 0\n",
      "EnergyMethodOptions::show: nmer_svm_rank_: \n",
      "EnergyMethodOptions::show: voids_penalty_energy_containing_cones_cutoff_:6\n",
      "EnergyMethodOptions::show: voids_penalty_energy_cone_distance_cutoff_: 8\n",
      "EnergyMethodOptions::show: voids_penalty_energy_cone_dotproduct_cutoff_: 0.1\n",
      "EnergyMethodOptions::show: voids_penalty_energy_voxel_grid_padding_: 1\n",
      "EnergyMethodOptions::show: voids_penalty_energy_voxel_size_: 0.5\n",
      "EnergyMethodOptions::show: voids_penalty_energy_disabled_except_during_packing_: TRUE\n",
      "EnergyMethodOptions::show: hbnet_bonus_ramping_function_: \"quadratic\"\n",
      "EnergyMethodOptions::show: hbnet_max_network_size_: 0\n",
      "EnergyMethodOptions::show: approximate_buried_unsat_penalty_hbond_energy_threshold_: -0.25\n",
      "EnergyMethodOptions::show: approximate_buried_unsat_penalty_burial_atomic_depth_: 4.5\n",
      "EnergyMethodOptions::show: approximate_buried_unsat_penalty_burial_probe_radius_: 2.3\n",
      "EnergyMethodOptions::show: approximate_buried_unsat_penalty_burial_resolution_: 0.5\n",
      "EnergyMethodOptions::show: approximate_buried_unsat_penalty_oversat_penalty_: 1\n",
      "EnergyMethodOptions::show: approximate_buried_unsat_penalty_assume_const_backbone_:1\n",
      "EnergyMethodOptions::show: approximate_buried_unsat_penalty_natural_corrections1_:0\n",
      "EnergyMethodOptions::show: approximate_buried_unsat_penalty_hbond_bonus_cross_chain_:0\n",
      "EnergyMethodOptions::show: approximate_buried_unsat_penalty_hbond_bonus_ser_to_helix_bb_:0\n",
      "EnergyMethodOptions::show: approximate_buried_unsat_penalty_lys_ok_with_1_:0\n",
      "EnergyMethodOptions::show: target_clash_pdb_:\n",
      "EnergyMethodOptions::show: dump_trajectory_prefix_: traj\n",
      "EnergyMethodOptions::show: dump_trajectory_gz_: FALSE\n",
      "EnergyMethodOptions::show: dump_trajectory_stride_: 1\n",
      "EnergyMethodOptions::show: bond_angle_central_atoms_to_score:\n",
      "EnergyMethodOptions::show: bond_angle_residue_type_param_set: none\n",
      "HBondOptions::show: hb_max_energy: 0\n",
      "HBondOptions::show: exclude_DNA_DNA: false\n",
      "HBondOptions::show: exclude_intra_res_protein_: false\n",
      "HBondOptions::show: exclude_intra_res_RNA_: false\n",
      "HBondOptions::show: put_intra_into_total_: false\n",
      "HBondOptions::show: exclude_self_hbonds: true\n",
      "HBondOptions::show: use_hb_env_dep: false\n",
      "HBondOptions::show: use_hb_env_dep_DNA: true\n",
      "HBondOptions::show: smooth_hb_env_dep: true\n",
      "HBondOptions::show: bb_donor_acceptor_check: true\n",
      "HBondOptions::show: decompose_bb_hb_into_pair_energies: false\n",
      "HBondOptions::show: params_database_tag_: ref2015_params\n",
      "HBondOptions::show: use_sp2_chi_penalty_: true\n",
      "HBondOptions::show: sp2_BAH180_rise_: 0.75\n",
      "HBondOptions::show: sp2_outer_width_: 0.357\n",
      "HBondOptions::show: measure_sp3acc_BAH_from_hvy_: true\n",
      "HBondOptions::show: fade_energy_: 1\n",
      "HBondOptions::show: exclude_ether_oxygens_: 0\n",
      "HBondOptions::show: Mbhbond: false \n",
      "HbondOptions::show: mphbond: false\n",
      "HBondOptions::show: hbond_energy_shift: 0\n",
      "HBondOptions::show: water_hybrid_sf: false\n",
      "RNA_EnergyMethodOptions::show: syn_G_potential_bonus: 0\n",
      "RNA_EnergyMethodOptions::show: torsion_potential: ps_04282011\n",
      "RNA_EnergyMethodOptions::show: suiteness_bonus: Richardson\n",
      "RNA_EnergyMethodOptions::show: rna_base_pair_xy_filename: scoring/rna/rna_base_pair_xy.dat\n",
      "FreeDOF_Options::show: free_suite_bonus: -1\n",
      "FreeDOF_Options::show: free_2HOprime_bonus: -0.5\n",
      "FreeDOF_Options::show: free_sugar_bonus: -1\n",
      "FreeDOF_Options::show: pack_phosphate_penalty: 0.25\n",
      "FreeDOF_Options::show: free_side_chain_bonus: -0.5\n",
      "\n",
      "\n"
     ]
    }
   ],
   "source": [
    "from pyrosetta import create_score_function\n",
    "\n",
    "# 初始化一个最常用的REF2015的打分函数对象\n",
    "my_scorefxn = create_score_function('ref2015')\n",
    "# 打印定义的打分函数的详细内容，包括权重、各个能量选项设置等。\n",
    "print(my_scorefxn)"
   ]
  },
  {
   "cell_type": "code",
   "execution_count": 55,
   "metadata": {},
   "outputs": [
    {
     "name": "stdout",
     "output_type": "stream",
     "text": [
      "core.import_pose.import_pose: File './1QYS.clean.pdb' automatically determined to be of type PDB\n",
      "core.conformation.Conformation: [ WARNING ] missing heavyatom:  CG  on residue LYS 13\n",
      "core.conformation.Conformation: [ WARNING ] missing heavyatom:  CD  on residue LYS 13\n",
      "core.conformation.Conformation: [ WARNING ] missing heavyatom:  CE  on residue LYS 13\n",
      "core.conformation.Conformation: [ WARNING ] missing heavyatom:  NZ  on residue LYS 13\n",
      "core.conformation.Conformation: [ WARNING ] missing heavyatom:  CG  on residue PHE 15\n",
      "core.conformation.Conformation: [ WARNING ] missing heavyatom:  CD1 on residue PHE 15\n",
      "core.conformation.Conformation: [ WARNING ] missing heavyatom:  CD2 on residue PHE 15\n",
      "core.conformation.Conformation: [ WARNING ] missing heavyatom:  CE1 on residue PHE 15\n",
      "core.conformation.Conformation: [ WARNING ] missing heavyatom:  CE2 on residue PHE 15\n",
      "core.conformation.Conformation: [ WARNING ] missing heavyatom:  CZ  on residue PHE 15\n",
      "core.conformation.Conformation: [ WARNING ] missing heavyatom:  OG  on residue SER 25\n",
      "core.conformation.Conformation: [ WARNING ] missing heavyatom:  CG  on residue GLN 28\n",
      "core.conformation.Conformation: [ WARNING ] missing heavyatom:  CD  on residue GLN 28\n",
      "core.conformation.Conformation: [ WARNING ] missing heavyatom:  OE1 on residue GLN 28\n",
      "core.conformation.Conformation: [ WARNING ] missing heavyatom:  NE2 on residue GLN 28\n",
      "core.conformation.Conformation: [ WARNING ] missing heavyatom:  CG  on residue LYS 29\n",
      "core.conformation.Conformation: [ WARNING ] missing heavyatom:  CD  on residue LYS 29\n",
      "core.conformation.Conformation: [ WARNING ] missing heavyatom:  CE  on residue LYS 29\n",
      "core.conformation.Conformation: [ WARNING ] missing heavyatom:  NZ  on residue LYS 29\n",
      "core.conformation.Conformation: [ WARNING ] missing heavyatom:  CG  on residue ASN 32\n",
      "core.conformation.Conformation: [ WARNING ] missing heavyatom:  OD1 on residue ASN 32\n",
      "core.conformation.Conformation: [ WARNING ] missing heavyatom:  ND2 on residue ASN 32\n",
      "core.conformation.Conformation: [ WARNING ] missing heavyatom:  CG  on residue LEU 34\n",
      "core.conformation.Conformation: [ WARNING ] missing heavyatom:  CD1 on residue LEU 34\n",
      "core.conformation.Conformation: [ WARNING ] missing heavyatom:  CD2 on residue LEU 34\n",
      "core.conformation.Conformation: [ WARNING ] missing heavyatom:  CG  on residue LYS 43\n",
      "core.conformation.Conformation: [ WARNING ] missing heavyatom:  CD  on residue LYS 43\n",
      "core.conformation.Conformation: [ WARNING ] missing heavyatom:  CE  on residue LYS 43\n",
      "core.conformation.Conformation: [ WARNING ] missing heavyatom:  NZ  on residue LYS 43\n",
      "core.conformation.Conformation: [ WARNING ] missing heavyatom:  CG  on residue ARG 44\n",
      "core.conformation.Conformation: [ WARNING ] missing heavyatom:  CD  on residue ARG 44\n",
      "core.conformation.Conformation: [ WARNING ] missing heavyatom:  NE  on residue ARG 44\n",
      "core.conformation.Conformation: [ WARNING ] missing heavyatom:  CZ  on residue ARG 44\n",
      "core.conformation.Conformation: [ WARNING ] missing heavyatom:  NH1 on residue ARG 44\n",
      "core.conformation.Conformation: [ WARNING ] missing heavyatom:  NH2 on residue ARG 44\n",
      "core.conformation.Conformation: [ WARNING ] missing heavyatom:  CG  on residue ARG 52\n",
      "core.conformation.Conformation: [ WARNING ] missing heavyatom:  CD  on residue ARG 52\n",
      "core.conformation.Conformation: [ WARNING ] missing heavyatom:  NE  on residue ARG 52\n",
      "core.conformation.Conformation: [ WARNING ] missing heavyatom:  CZ  on residue ARG 52\n",
      "core.conformation.Conformation: [ WARNING ] missing heavyatom:  NH1 on residue ARG 52\n",
      "core.conformation.Conformation: [ WARNING ] missing heavyatom:  NH2 on residue ARG 52\n",
      "core.conformation.Conformation: [ WARNING ] missing heavyatom:  CG  on residue LYS 59\n",
      "core.conformation.Conformation: [ WARNING ] missing heavyatom:  CD  on residue LYS 59\n",
      "core.conformation.Conformation: [ WARNING ] missing heavyatom:  CE  on residue LYS 59\n",
      "core.conformation.Conformation: [ WARNING ] missing heavyatom:  NZ  on residue LYS 59\n",
      "core.conformation.Conformation: [ WARNING ] missing heavyatom:  CG  on residue GLU 70\n",
      "core.conformation.Conformation: [ WARNING ] missing heavyatom:  CD  on residue GLU 70\n",
      "core.conformation.Conformation: [ WARNING ] missing heavyatom:  OE1 on residue GLU 70\n",
      "core.conformation.Conformation: [ WARNING ] missing heavyatom:  OE2 on residue GLU 70\n",
      "core.conformation.Conformation: [ WARNING ] missing heavyatom:  OXT on residue LEU:CtermProteinFull 91\n",
      "core.pack.pack_missing_sidechains: packing residue number 13 because of missing atom number 6 atom name  CG\n",
      "core.pack.pack_missing_sidechains: packing residue number 15 because of missing atom number 6 atom name  CG\n",
      "core.pack.pack_missing_sidechains: packing residue number 25 because of missing atom number 6 atom name  OG\n",
      "core.pack.pack_missing_sidechains: packing residue number 28 because of missing atom number 6 atom name  CG\n",
      "core.pack.pack_missing_sidechains: packing residue number 29 because of missing atom number 6 atom name  CG\n",
      "core.pack.pack_missing_sidechains: packing residue number 32 because of missing atom number 6 atom name  CG\n",
      "core.pack.pack_missing_sidechains: packing residue number 34 because of missing atom number 6 atom name  CG\n",
      "core.pack.pack_missing_sidechains: packing residue number 43 because of missing atom number 6 atom name  CG\n",
      "core.pack.pack_missing_sidechains: packing residue number 44 because of missing atom number 6 atom name  CG\n",
      "core.pack.pack_missing_sidechains: packing residue number 52 because of missing atom number 6 atom name  CG\n",
      "core.pack.pack_missing_sidechains: packing residue number 59 because of missing atom number 6 atom name  CG\n",
      "core.pack.pack_missing_sidechains: packing residue number 70 because of missing atom number 6 atom name  CG\n",
      "core.pack.task: Packer task: initialize from command line()\n",
      "core.scoring.ScoreFunctionFactory: SCOREFUNCTION: ref2015\n",
      "core.pack.pack_rotamers: built 186 rotamers at 12 positions.\n",
      "core.pack.pack_rotamers: Requesting all available threads for interaction graph computation.\n",
      "core.pack.interaction_graph.interaction_graph_factory: Instantiating DensePDInteractionGraph\n",
      "core.pack.rotamer_set.RotamerSets: Completed interaction graph pre-calculation in 1 available threads (1 had been requested).\n"
     ]
    }
   ],
   "source": [
    "# 使用打分函数计算pose的能量\n",
    "# 在这之前，我们重新加载一下pose，因为在之前的操作中，我们的pose已经被修改了\n",
    "pose = pose_from_pdb(\"./1QYS.clean.pdb\")"
   ]
  },
  {
   "cell_type": "code",
   "execution_count": 56,
   "metadata": {},
   "outputs": [
    {
     "name": "stdout",
     "output_type": "stream",
     "text": [
      "239.2789229302296\n"
     ]
    }
   ],
   "source": [
    "score = my_scorefxn(pose)\n",
    "print(score)\n",
    "# 我们可以看到 REF2015 的总能量是 239 左右\n",
    "# 这个能量值越小，代表构象越稳定\n",
    "# 这个能量值并不是越小越好（有时候），因为“稳定”并不是我们唯一的目标，有时候我们需要的是“活性”等其他性质"
   ]
  },
  {
   "cell_type": "code",
   "execution_count": 57,
   "metadata": {},
   "outputs": [
    {
     "name": "stdout",
     "output_type": "stream",
     "text": [
      "core.scoring.ScoreFunction: \n",
      "------------------------------------------------------------\n",
      " Scores                       Weight   Raw Score Wghtd.Score\n",
      "------------------------------------------------------------\n",
      " fa_atr                       1.000    -481.446    -481.446\n",
      " fa_rep                       0.550     346.409     190.525\n",
      " fa_sol                       1.000     307.299     307.299\n",
      " fa_intra_rep                 0.005     287.021       1.435\n",
      " fa_intra_sol_xover4          1.000      19.576      19.576\n",
      " lk_ball_wtd                  1.000      -7.840      -7.840\n",
      " fa_elec                      1.000    -104.865    -104.865\n",
      " pro_close                    1.250       0.000       0.000\n",
      " hbond_sr_bb                  1.000     -26.819     -26.819\n",
      " hbond_lr_bb                  1.000     -31.013     -31.013\n",
      " hbond_bb_sc                  1.000      -2.475      -2.475\n",
      " hbond_sc                     1.000      -3.900      -3.900\n",
      " dslf_fa13                    1.250       0.000       0.000\n",
      " omega                        0.400      64.710      25.884\n",
      " fa_dun                       0.700     420.954     294.668\n",
      " p_aa_pp                      0.600     -13.484      -8.090\n",
      " yhh_planarity                0.625       0.000       0.000\n",
      " ref                          1.000      22.861      22.861\n",
      " rama_prepro                  0.450      96.620      43.479\n",
      "---------------------------------------------------\n",
      " Total weighted score:                      239.279\n"
     ]
    }
   ],
   "source": [
    "# 我们可以查看能量的组成与权重\n",
    "my_scorefxn.show(pose)\n",
    "\n",
    "# 如果想要了解更多，请参考 https://docs.rosettacommons.org/docs/latest/rosetta_basics/scoring/score-types\n",
    "# 或者逐项搜索"
   ]
  },
  {
   "cell_type": "code",
   "execution_count": 58,
   "metadata": {},
   "outputs": [
    {
     "name": "stdout",
     "output_type": "stream",
     "text": [
      "core.scoring.Energies: E               fa_atr        fa_rep        fa_sol  fa_intra_repfa_intra_sol_x   lk_ball_wtd       fa_elec     pro_close   hbond_sr_bb   hbond_lr_bb   hbond_bb_sc      hbond_sc     dslf_fa13         omega        fa_dun       p_aa_pp yhh_planarity           ref   rama_prepro\n",
      "core.scoring.Energies: E(i)   1         -2.34          0.67          2.96          1.31          0.25         -0.22         -0.23          0.00          0.00          0.00          0.00         -0.20          0.00          0.15         13.21          0.00          0.00         -2.15          0.00\n"
     ]
    }
   ],
   "source": [
    "# 此外pose对象在经过定义的能量函数计算后，会将最近一次的打分结果储存在pose对象的energy对象下\n",
    "# 通过energy对象可以获取未取权重的、单个残基的各个能量项打分值\n",
    "\n",
    "# 查看第一个残基的能量项分解如下：\n",
    "pose.energies().show(1)"
   ]
  },
  {
   "cell_type": "code",
   "execution_count": 59,
   "metadata": {},
   "outputs": [
    {
     "data": {
      "text/plain": [
       "-2.3403351385779367"
      ]
     },
     "execution_count": 59,
     "metadata": {},
     "output_type": "execute_result"
    }
   ],
   "source": [
    "# 我们也可以指定查看某个残基的某个能量项\n",
    "# 比如：查看第一个残基的fa_atr得分值\n",
    "from pyrosetta.rosetta.core.scoring import fa_atr\n",
    "pose.energies().residue_total_energies(1)[fa_atr]"
   ]
  },
  {
   "cell_type": "code",
   "execution_count": 60,
   "metadata": {},
   "outputs": [
    {
     "name": "stdout",
     "output_type": "stream",
     "text": [
      "-135.03635488387584\n",
      "core.scoring.ScoreFunction: \n",
      "------------------------------------------------------------\n",
      " Scores                       Weight   Raw Score Wghtd.Score\n",
      "------------------------------------------------------------\n",
      " fa_atr                       1.000    -481.446    -481.446\n",
      " fa_rep                       1.000     346.409     346.409\n",
      "---------------------------------------------------\n",
      " Total weighted score:                     -135.036\n"
     ]
    }
   ],
   "source": [
    "# 当然，我们也可以自定义一个我们自己的打分函数，这可以通过 import 我们想要的 scoring 模块与 ScoreFunction 对象的构建来实现\n",
    "from pyrosetta.rosetta.core.scoring import ScoreFunction\n",
    "from pyrosetta.rosetta.core.scoring import fa_atr, fa_rep\n",
    "\n",
    "# 创建一个空的打分函数对象\n",
    "my_scorefxn = ScoreFunction()\n",
    "# 设置打分函数的权重\n",
    "my_scorefxn.set_weight(fa_atr, 1.0)\n",
    "my_scorefxn.set_weight(fa_rep, 1.0)\n",
    "\n",
    "# 使用自定义的打分函数计算pose的能量\n",
    "score = my_scorefxn(pose)\n",
    "print(score)\n",
    "\n",
    "# 我们可以查看能量的组成与权重\n",
    "my_scorefxn.show(pose)\n"
   ]
  },
  {
   "cell_type": "markdown",
   "metadata": {},
   "source": [
    "# Feel free to play with the code below to get a better understanding of the concepts above!"
   ]
  },
  {
   "cell_type": "markdown",
   "metadata": {},
   "source": [
    "## you can play at here"
   ]
  },
  {
   "cell_type": "code",
   "execution_count": null,
   "metadata": {},
   "outputs": [],
   "source": []
  },
  {
   "cell_type": "markdown",
   "metadata": {},
   "source": [
    "## 下面是一些 optional 的 **open** question，如果你学有余力且时间充裕且不知道玩些什么，可以尝试回答一下这些问题\n",
    "1. 在上面的代码中，我们画出了1QYS的ramachandran plot与chi1角的分布，你能否画出另一个蛋白质的ramachandran plot与chi1角（或者其他角）的分布？他们是否与你观察到的结构和所学的知识一致？又与1QYS有何不同？\n",
    "2. 在1QYS的ramachandran plot中，有少部分的氨基酸落在了“negative phi”区域，他们是什么种类的氨基酸？分布在什么样的二级结构中？为什么他们的phi角为负？\n",
    "3. 单独画出某个蛋白质中所有 glycine 以及 pre-proline（proline前面的氨基酸）的 ramachandran plot，你能观察到什么现象？为什么？（如果现象不明显，可以下载更多的蛋白质进行观察）\n",
    "4. 你可以通过下列代码\n",
    "    ```python\n",
    "    from pyrosetta.rosetta.protocols.relax import * \n",
    "    relax = FastRelax() \n",
    "    relax.set_scorefxn(scorefxn) \n",
    "    relax.apply(pose)\n",
    "    ```\n",
    "    根据指定的能量函数对pose进行relax，relax后的结构发生了什么变化？能量是否有所下降？"
   ]
  }
 ],
 "metadata": {
  "kernelspec": {
   "display_name": "test",
   "language": "python",
   "name": "python3"
  },
  "language_info": {
   "codemirror_mode": {
    "name": "ipython",
    "version": 3
   },
   "file_extension": ".py",
   "mimetype": "text/x-python",
   "name": "python",
   "nbconvert_exporter": "python",
   "pygments_lexer": "ipython3",
   "version": "3.12.3"
  }
 },
 "nbformat": 4,
 "nbformat_minor": 2
}
